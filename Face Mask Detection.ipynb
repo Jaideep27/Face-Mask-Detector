{
 "cells": [
  {
   "cell_type": "code",
   "execution_count": 1,
   "metadata": {},
   "outputs": [
    {
     "name": "stdout",
     "output_type": "stream",
     "text": [
      "Requirement already satisfied: keras in c:\\users\\jaide\\appdata\\roaming\\python\\python36\\site-packages (2.4.0)\n",
      "Requirement already satisfied: tensorflow>=2.2.0 in c:\\users\\jaide\\appdata\\roaming\\python\\python36\\site-packages (from keras) (2.5.2)\n",
      "Requirement already satisfied: numpy>=1.9.1 in c:\\users\\jaide\\appdata\\roaming\\python\\python36\\site-packages (from keras) (1.19.5)\n",
      "Requirement already satisfied: h5py in c:\\users\\jaide\\appdata\\roaming\\python\\python36\\site-packages (from keras) (3.1.0)\n",
      "Requirement already satisfied: scipy>=0.14 in c:\\users\\jaide\\appdata\\roaming\\python\\python36\\site-packages (from keras) (1.5.4)\n",
      "Requirement already satisfied: pyyaml in c:\\users\\jaide\\anaconda3\\lib\\site-packages (from keras) (3.12)\n",
      "Requirement already satisfied: typing-extensions~=3.7.4 in c:\\users\\jaide\\anaconda3\\lib\\site-packages (from tensorflow>=2.2.0->keras) (3.7.4.3)\n",
      "Requirement already satisfied: astunparse~=1.6.3 in c:\\users\\jaide\\anaconda3\\lib\\site-packages (from tensorflow>=2.2.0->keras) (1.6.3)\n",
      "Requirement already satisfied: keras-nightly~=2.5.0.dev in c:\\users\\jaide\\appdata\\roaming\\python\\python36\\site-packages (from tensorflow>=2.2.0->keras) (2.5.0.dev2021032900)\n",
      "Requirement already satisfied: grpcio~=1.34.0 in c:\\users\\jaide\\appdata\\roaming\\python\\python36\\site-packages (from tensorflow>=2.2.0->keras) (1.34.1)\n",
      "Requirement already satisfied: google-pasta~=0.2 in c:\\users\\jaide\\anaconda3\\lib\\site-packages (from tensorflow>=2.2.0->keras) (0.2.0)\n",
      "Requirement already satisfied: wheel~=0.35 in c:\\users\\jaide\\anaconda3\\lib\\site-packages (from tensorflow>=2.2.0->keras) (0.37.1)\n",
      "Requirement already satisfied: absl-py~=0.10 in c:\\users\\jaide\\anaconda3\\lib\\site-packages (from tensorflow>=2.2.0->keras) (0.15.0)\n",
      "Requirement already satisfied: protobuf>=3.9.2 in c:\\users\\jaide\\anaconda3\\lib\\site-packages (from tensorflow>=2.2.0->keras) (3.19.6)\n",
      "Requirement already satisfied: tensorflow-estimator<2.6.0,>=2.5.0 in c:\\users\\jaide\\appdata\\roaming\\python\\python36\\site-packages (from tensorflow>=2.2.0->keras) (2.5.0)\n",
      "Requirement already satisfied: termcolor~=1.1.0 in c:\\users\\jaide\\anaconda3\\lib\\site-packages (from tensorflow>=2.2.0->keras) (1.1.0)\n",
      "Requirement already satisfied: tensorboard~=2.5 in c:\\users\\jaide\\anaconda3\\lib\\site-packages (from tensorflow>=2.2.0->keras) (2.6.0)\n",
      "Requirement already satisfied: six~=1.15.0 in c:\\users\\jaide\\anaconda3\\lib\\site-packages (from tensorflow>=2.2.0->keras) (1.15.0)\n",
      "Requirement already satisfied: opt-einsum~=3.3.0 in c:\\users\\jaide\\anaconda3\\lib\\site-packages (from tensorflow>=2.2.0->keras) (3.3.0)\n",
      "Requirement already satisfied: keras-preprocessing~=1.1.2 in c:\\users\\jaide\\anaconda3\\lib\\site-packages (from tensorflow>=2.2.0->keras) (1.1.2)\n",
      "Requirement already satisfied: wrapt~=1.12.1 in c:\\users\\jaide\\appdata\\roaming\\python\\python36\\site-packages (from tensorflow>=2.2.0->keras) (1.12.1)\n",
      "Requirement already satisfied: flatbuffers~=1.12.0 in c:\\users\\jaide\\anaconda3\\lib\\site-packages (from tensorflow>=2.2.0->keras) (1.12)\n",
      "Requirement already satisfied: gast==0.4.0 in c:\\users\\jaide\\appdata\\roaming\\python\\python36\\site-packages (from tensorflow>=2.2.0->keras) (0.4.0)\n",
      "Requirement already satisfied: cached-property in c:\\users\\jaide\\anaconda3\\lib\\site-packages (from h5py->keras) (1.5.2)\n",
      "Requirement already satisfied: requests<3,>=2.21.0 in c:\\users\\jaide\\anaconda3\\lib\\site-packages (from tensorboard~=2.5->tensorflow>=2.2.0->keras) (2.27.1)\n",
      "Requirement already satisfied: google-auth-oauthlib<0.5,>=0.4.1 in c:\\users\\jaide\\anaconda3\\lib\\site-packages (from tensorboard~=2.5->tensorflow>=2.2.0->keras) (0.4.6)\n",
      "Requirement already satisfied: markdown>=2.6.8 in c:\\users\\jaide\\anaconda3\\lib\\site-packages (from tensorboard~=2.5->tensorflow>=2.2.0->keras) (3.3.7)\n",
      "Requirement already satisfied: werkzeug>=0.11.15 in c:\\users\\jaide\\appdata\\roaming\\python\\python36\\site-packages (from tensorboard~=2.5->tensorflow>=2.2.0->keras) (2.0.3)\n",
      "Requirement already satisfied: google-auth<2,>=1.6.3 in c:\\users\\jaide\\anaconda3\\lib\\site-packages (from tensorboard~=2.5->tensorflow>=2.2.0->keras) (1.35.0)\n",
      "Requirement already satisfied: tensorboard-plugin-wit>=1.6.0 in c:\\users\\jaide\\anaconda3\\lib\\site-packages (from tensorboard~=2.5->tensorflow>=2.2.0->keras) (1.8.1)\n",
      "Requirement already satisfied: setuptools>=41.0.0 in c:\\users\\jaide\\anaconda3\\lib\\site-packages (from tensorboard~=2.5->tensorflow>=2.2.0->keras) (59.6.0)\n",
      "Requirement already satisfied: tensorboard-data-server<0.7.0,>=0.6.0 in c:\\users\\jaide\\anaconda3\\lib\\site-packages (from tensorboard~=2.5->tensorflow>=2.2.0->keras) (0.6.1)\n",
      "Requirement already satisfied: pyasn1-modules>=0.2.1 in c:\\users\\jaide\\anaconda3\\lib\\site-packages (from google-auth<2,>=1.6.3->tensorboard~=2.5->tensorflow>=2.2.0->keras) (0.2.8)\n",
      "Requirement already satisfied: cachetools<5.0,>=2.0.0 in c:\\users\\jaide\\anaconda3\\lib\\site-packages (from google-auth<2,>=1.6.3->tensorboard~=2.5->tensorflow>=2.2.0->keras) (4.2.4)\n",
      "Requirement already satisfied: rsa<5,>=3.1.4 in c:\\users\\jaide\\anaconda3\\lib\\site-packages (from google-auth<2,>=1.6.3->tensorboard~=2.5->tensorflow>=2.2.0->keras) (4.9)\n",
      "Requirement already satisfied: requests-oauthlib>=0.7.0 in c:\\users\\jaide\\anaconda3\\lib\\site-packages (from google-auth-oauthlib<0.5,>=0.4.1->tensorboard~=2.5->tensorflow>=2.2.0->keras) (1.3.1)\n",
      "Requirement already satisfied: importlib-metadata>=4.4 in c:\\users\\jaide\\anaconda3\\lib\\site-packages (from markdown>=2.6.8->tensorboard~=2.5->tensorflow>=2.2.0->keras) (4.8.3)\n",
      "Requirement already satisfied: charset-normalizer~=2.0.0 in c:\\users\\jaide\\anaconda3\\lib\\site-packages (from requests<3,>=2.21.0->tensorboard~=2.5->tensorflow>=2.2.0->keras) (2.0.12)\n",
      "Requirement already satisfied: idna<4,>=2.5 in c:\\users\\jaide\\anaconda3\\lib\\site-packages (from requests<3,>=2.21.0->tensorboard~=2.5->tensorflow>=2.2.0->keras) (2.6)\n",
      "Requirement already satisfied: urllib3<1.27,>=1.21.1 in c:\\users\\jaide\\anaconda3\\lib\\site-packages (from requests<3,>=2.21.0->tensorboard~=2.5->tensorflow>=2.2.0->keras) (1.22)\n",
      "Requirement already satisfied: certifi>=2017.4.17 in c:\\users\\jaide\\anaconda3\\lib\\site-packages (from requests<3,>=2.21.0->tensorboard~=2.5->tensorflow>=2.2.0->keras) (2018.4.16)\n",
      "Requirement already satisfied: dataclasses in c:\\users\\jaide\\appdata\\roaming\\python\\python36\\site-packages (from werkzeug>=0.11.15->tensorboard~=2.5->tensorflow>=2.2.0->keras) (0.8)\n",
      "Requirement already satisfied: zipp>=0.5 in c:\\users\\jaide\\anaconda3\\lib\\site-packages (from importlib-metadata>=4.4->markdown>=2.6.8->tensorboard~=2.5->tensorflow>=2.2.0->keras) (3.6.0)\n",
      "Requirement already satisfied: pyasn1<0.5.0,>=0.4.6 in c:\\users\\jaide\\anaconda3\\lib\\site-packages (from pyasn1-modules>=0.2.1->google-auth<2,>=1.6.3->tensorboard~=2.5->tensorflow>=2.2.0->keras) (0.4.8)\n",
      "Requirement already satisfied: oauthlib>=3.0.0 in c:\\users\\jaide\\anaconda3\\lib\\site-packages (from requests-oauthlib>=0.7.0->google-auth-oauthlib<0.5,>=0.4.1->tensorboard~=2.5->tensorflow>=2.2.0->keras) (3.2.2)\n"
     ]
    }
   ],
   "source": [
    "!pip install keras"
   ]
  },
  {
   "cell_type": "code",
   "execution_count": 2,
   "metadata": {},
   "outputs": [
    {
     "name": "stdout",
     "output_type": "stream",
     "text": [
      "2.5.2\n"
     ]
    }
   ],
   "source": [
    "import tensorflow as tf\n",
    "print(tf.__version__)\n"
   ]
  },
  {
   "cell_type": "code",
   "execution_count": 3,
   "metadata": {},
   "outputs": [
    {
     "name": "stdout",
     "output_type": "stream",
     "text": [
      "{'with mask': 0, 'without mask': 1}\n",
      "['with mask', 'without mask']\n",
      "[0, 1]\n"
     ]
    }
   ],
   "source": [
    "import cv2,os\n",
    "\n",
    "data_path='dataset'\n",
    "categories=os.listdir(data_path)\n",
    "labels=[i for i in range(len(categories))]\n",
    "\n",
    "label_dict=dict(zip(categories,labels)) #empty dictionary\n",
    "\n",
    "print(label_dict)\n",
    "print(categories)\n",
    "print(labels)"
   ]
  },
  {
   "cell_type": "code",
   "execution_count": 6,
   "metadata": {},
   "outputs": [],
   "source": [
    "from keras.utils import np_utils"
   ]
  },
  {
   "cell_type": "code",
   "execution_count": 7,
   "metadata": {},
   "outputs": [],
   "source": [
    "img_size=100\n",
    "data=[]\n",
    "target=[]\n",
    "\n",
    "\n",
    "for category in categories:\n",
    "    folder_path=os.path.join(data_path,category)\n",
    "    img_names=os.listdir(folder_path)\n",
    "        \n",
    "    for img_name in img_names:\n",
    "        img_path=os.path.join(folder_path,img_name)\n",
    "        img=cv2.imread(img_path)\n",
    "\n",
    "        try:\n",
    "            gray=cv2.cvtColor(img,cv2.COLOR_BGR2GRAY)           \n",
    "            #Coverting the image into gray scale\n",
    "            resized=cv2.resize(gray,(img_size,img_size))\n",
    "            #resizing the gray scale into 50x50, since we need a fixed common size for all the images in the dataset\n",
    "            data.append(resized)\n",
    "            target.append(label_dict[category])\n",
    "            #appending the image and the label(categorized) into the list (dataset)\n",
    "\n",
    "        except Exception as e:\n",
    "            print('Exception:',e)\n",
    "            #if any exception rasied, the exception will be printed here. And pass to the next i"
   ]
  },
  {
   "cell_type": "code",
   "execution_count": 8,
   "metadata": {},
   "outputs": [],
   "source": [
    "import numpy as np\n",
    "\n",
    "\n",
    "data=np.array(data)/255.0\n",
    "data=np.reshape(data,(data.shape[0],img_size,img_size,1))\n",
    "target=np.array(target)\n",
    "from keras.utils import np_utils\n",
    "new_target=np_utils.to_categorical(target)"
   ]
  },
  {
   "cell_type": "code",
   "execution_count": 9,
   "metadata": {},
   "outputs": [],
   "source": [
    "np.save('data',data)\n",
    "np.save('target',new_target)"
   ]
  },
  {
   "cell_type": "code",
   "execution_count": 10,
   "metadata": {},
   "outputs": [],
   "source": [
    "import numpy as np\n",
    "\n",
    "data=np.load('data.npy')\n",
    "target=np.load('target.npy')\n",
    "\n",
    "#loading the save numpy arrays in the previous code"
   ]
  },
  {
   "cell_type": "code",
   "execution_count": 11,
   "metadata": {},
   "outputs": [],
   "source": [
    "import tensorflow as tf\n",
    "from tensorflow.keras.models import Sequential\n",
    "from tensorflow.keras.layers import Conv2D, Activation, MaxPooling2D, Flatten, Dropout, Dense\n",
    "from tensorflow.keras.callbacks import ModelCheckpoint\n",
    "\n",
    "model = Sequential()\n",
    "\n",
    "model.add(Conv2D(200,(3,3),input_shape=data.shape[1:]))\n",
    "model.add(Activation('relu'))\n",
    "model.add(MaxPooling2D(pool_size=(2,2)))\n",
    "#The first CNN layer followed by Relu and MaxPooling layers\n",
    "\n",
    "model.add(Conv2D(100,(3,3)))\n",
    "model.add(Activation('relu'))\n",
    "model.add(MaxPooling2D(pool_size=(2,2)))\n",
    "#The second convolution layer followed by Relu and MaxPooling layers\n",
    "\n",
    "model.add(Flatten())\n",
    "model.add(Dropout(0.5))\n",
    "#Flatten layer to stack the output convolutions from second convolution layer\n",
    "model.add(Dense(50,activation='relu'))\n",
    "#Dense layer of 64 neurons\n",
    "model.add(Dense(2,activation='softmax'))\n",
    "#The Final layer with two outputs for two categories\n",
    "\n",
    "model.compile(loss='categorical_crossentropy',optimizer='adam',metrics=['accuracy'])"
   ]
  },
  {
   "cell_type": "code",
   "execution_count": 12,
   "metadata": {},
   "outputs": [],
   "source": [
    "from sklearn.model_selection import train_test_split\n",
    "\n",
    "train_data,test_data,train_target,test_target=train_test_split(data,target,test_size=0.1)"
   ]
  },
  {
   "cell_type": "code",
   "execution_count": 13,
   "metadata": {},
   "outputs": [
    {
     "name": "stdout",
     "output_type": "stream",
     "text": [
      "Epoch 1/20\n",
      "31/31 [==============================] - 30s 951ms/step - loss: 0.6823 - accuracy: 0.5576 - val_loss: 0.6170 - val_accuracy: 0.6653\n",
      "INFO:tensorflow:Assets written to: model-001.model\\assets\n",
      "Epoch 2/20\n",
      "31/31 [==============================] - 28s 911ms/step - loss: 0.5142 - accuracy: 0.7394 - val_loss: 0.3988 - val_accuracy: 0.8589\n",
      "INFO:tensorflow:Assets written to: model-002.model\\assets\n",
      "Epoch 3/20\n",
      "31/31 [==============================] - 28s 910ms/step - loss: 0.3427 - accuracy: 0.8485 - val_loss: 0.4966 - val_accuracy: 0.7500\n",
      "Epoch 4/20\n",
      "31/31 [==============================] - 28s 897ms/step - loss: 0.2669 - accuracy: 0.8848 - val_loss: 0.2479 - val_accuracy: 0.9315\n",
      "INFO:tensorflow:Assets written to: model-004.model\\assets\n",
      "Epoch 5/20\n",
      "31/31 [==============================] - 28s 899ms/step - loss: 0.1714 - accuracy: 0.9354 - val_loss: 0.3174 - val_accuracy: 0.8790\n",
      "Epoch 6/20\n",
      "31/31 [==============================] - 28s 912ms/step - loss: 0.2124 - accuracy: 0.9172 - val_loss: 0.2370 - val_accuracy: 0.9355\n",
      "INFO:tensorflow:Assets written to: model-006.model\\assets\n",
      "Epoch 7/20\n",
      "31/31 [==============================] - 27s 876ms/step - loss: 0.1253 - accuracy: 0.9606 - val_loss: 0.1994 - val_accuracy: 0.9315\n",
      "INFO:tensorflow:Assets written to: model-007.model\\assets\n",
      "Epoch 8/20\n",
      "31/31 [==============================] - 24s 775ms/step - loss: 0.0823 - accuracy: 0.9727 - val_loss: 0.1632 - val_accuracy: 0.9435\n",
      "INFO:tensorflow:Assets written to: model-008.model\\assets\n",
      "Epoch 9/20\n",
      "31/31 [==============================] - 24s 782ms/step - loss: 0.0643 - accuracy: 0.9808 - val_loss: 0.1704 - val_accuracy: 0.9435\n",
      "Epoch 10/20\n",
      "31/31 [==============================] - 24s 787ms/step - loss: 0.0865 - accuracy: 0.9677 - val_loss: 0.1493 - val_accuracy: 0.9435\n",
      "INFO:tensorflow:Assets written to: model-010.model\\assets\n",
      "Epoch 11/20\n",
      "31/31 [==============================] - 24s 766ms/step - loss: 0.0391 - accuracy: 0.9879 - val_loss: 0.1700 - val_accuracy: 0.9395\n",
      "Epoch 12/20\n",
      "31/31 [==============================] - 24s 761ms/step - loss: 0.0224 - accuracy: 0.9960 - val_loss: 0.2098 - val_accuracy: 0.9274\n",
      "Epoch 13/20\n",
      "31/31 [==============================] - 24s 763ms/step - loss: 0.0390 - accuracy: 0.9859 - val_loss: 0.2956 - val_accuracy: 0.9234\n",
      "Epoch 14/20\n",
      "31/31 [==============================] - 24s 783ms/step - loss: 0.0333 - accuracy: 0.9909 - val_loss: 0.1717 - val_accuracy: 0.9435\n",
      "Epoch 15/20\n",
      "31/31 [==============================] - 25s 804ms/step - loss: 0.0305 - accuracy: 0.9889 - val_loss: 0.1787 - val_accuracy: 0.9516\n",
      "Epoch 16/20\n",
      "31/31 [==============================] - 24s 760ms/step - loss: 0.0136 - accuracy: 0.9960 - val_loss: 0.2023 - val_accuracy: 0.9435\n",
      "Epoch 17/20\n",
      "31/31 [==============================] - 25s 798ms/step - loss: 0.0187 - accuracy: 0.9929 - val_loss: 0.1699 - val_accuracy: 0.9516\n",
      "Epoch 18/20\n",
      "31/31 [==============================] - 29s 941ms/step - loss: 0.0176 - accuracy: 0.9970 - val_loss: 0.2001 - val_accuracy: 0.9395\n",
      "Epoch 19/20\n",
      "31/31 [==============================] - 26s 846ms/step - loss: 0.0379 - accuracy: 0.9869 - val_loss: 0.2427 - val_accuracy: 0.9315\n",
      "Epoch 20/20\n",
      "31/31 [==============================] - 32s 1s/step - loss: 0.0430 - accuracy: 0.9859 - val_loss: 0.2322 - val_accuracy: 0.9355\n"
     ]
    }
   ],
   "source": [
    "checkpoint = ModelCheckpoint('model-{epoch:03d}.model',monitor='val_loss',verbose=0,save_best_only=True,mode='auto')\n",
    "history=model.fit(train_data,train_target,epochs=20,callbacks=[checkpoint],validation_split=0.2)"
   ]
  },
  {
   "cell_type": "code",
   "execution_count": 15,
   "metadata": {},
   "outputs": [
    {
     "data": {
      "image/png": "[encoded data removed]",
      "text/plain": [
       "<Figure size 432x288 with 1 Axes>"
      ]
     },
     "metadata": {},
     "output_type": "display_data"
    }
   ],
   "source": [
    "from matplotlib import pyplot as plt\n",
    "\n",
    "plt.plot(history.history['loss'],'r',label='training loss')\n",
    "plt.plot(history.history['val_loss'],label='validation loss')\n",
    "plt.xlabel('# epochs')\n",
    "plt.ylabel('loss')\n",
    "plt.legend()\n",
    "plt.show()\n"
   ]
  },
  {
   "cell_type": "code",
   "execution_count": 16,
   "metadata": {},
   "outputs": [
    {
     "data": {
      "image/png": "[encoded data removed]",
      "text/plain": [
       "<Figure size 432x288 with 1 Axes>"
      ]
     },
     "metadata": {},
     "output_type": "display_data"
    }
   ],
   "source": [
    "plt.plot(history.history['accuracy'],'r',label='training accuracy')\n",
    "plt.plot(history.history['val_accuracy'],label='validation accuracy')\n",
    "plt.xlabel('# epochs')\n",
    "plt.ylabel('loss')\n",
    "plt.legend()\n",
    "plt.show()"
   ]
  },
  {
   "cell_type": "code",
   "execution_count": 17,
   "metadata": {},
   "outputs": [
    {
     "name": "stdout",
     "output_type": "stream",
     "text": [
      "5/5 [==============================] - 1s 136ms/step - loss: 0.1242 - accuracy: 0.9493\n",
      "[0.1241757795214653, 0.9492753744125366]\n"
     ]
    }
   ],
   "source": [
    "print(model.evaluate(test_data,test_target))"
   ]
  },
  {
   "cell_type": "code",
   "execution_count": 18,
   "metadata": {},
   "outputs": [
    {
     "name": "stdout",
     "output_type": "stream",
     "text": [
      "Requirement already satisfied: opencv-python in c:\\users\\jaide\\anaconda3\\lib\\site-packages (4.5.5.62)\n",
      "Requirement already satisfied: numpy>=1.13.3 in c:\\users\\jaide\\appdata\\roaming\\python\\python36\\site-packages (from opencv-python) (1.19.5)\n"
     ]
    }
   ],
   "source": [
    "!pip3 install opencv-python"
   ]
  },
  {
   "cell_type": "code",
   "execution_count": 25,
   "metadata": {},
   "outputs": [],
   "source": [
    "from tensorflow.keras.models import load_model\n",
    "import cv2\n",
    "import numpy as np"
   ]
  },
  {
   "cell_type": "code",
   "execution_count": 26,
   "metadata": {},
   "outputs": [],
   "source": [
    "from tensorflow.keras.utils import to_categorical\n",
    "from tensorflow.keras.constraints import max_norm"
   ]
  },
  {
   "cell_type": "code",
   "execution_count": 37,
   "metadata": {},
   "outputs": [],
   "source": [
    "model = load_model('model-017.model')\n",
    "face_clsfr=cv2.CascadeClassifier('haarcascade_frontalface_default.xml')\n",
    "source=cv2.VideoCapture(0)\n",
    "labels_dict={0:'MASK',1:'NO MASK'}\n",
    "color_dict={0:(0,255,0),1:(0,0,255)}"
   ]
  },
  {
   "cell_type": "code",
   "execution_count": 38,
   "metadata": {},
   "outputs": [],
   "source": [
    "while(True):\n",
    "\n",
    "    ret,img=source.read()\n",
    "    gray=cv2.cvtColor(img,cv2.COLOR_BGR2GRAY)\n",
    "    faces=face_clsfr.detectMultiScale(gray,1.3,5)  \n",
    "\n",
    "    for (x,y,w,h) in faces:\n",
    "    \n",
    "        face_img=gray[y:y+w,x:x+w]\n",
    "        resized=cv2.resize(face_img,(100,100))\n",
    "        normalized=resized/255.0\n",
    "        reshaped=np.reshape(normalized,(1,100,100,1))\n",
    "        result=model.predict(reshaped)\n",
    "\n",
    "        label=np.argmax(result,axis=1)[0]\n",
    "      \n",
    "        cv2.rectangle(img,(x,y),(x+w,y+h),color_dict[label],2)\n",
    "        cv2.rectangle(img,(x,y-40),(x+w,y),color_dict[label],-1)\n",
    "        cv2.putText(img, labels_dict[label], (x, y-10),cv2.FONT_HERSHEY_SIMPLEX,0.8,(255,255,255),2)\n",
    "        \n",
    "        \n",
    "    cv2.imshow('LIVE',img)\n",
    "    key=cv2.waitKey(1)\n",
    "    \n",
    "    if(key==27):\n",
    "        break\n",
    "        \n",
    "cv2.destroyAllWindows()\n",
    "source.release()"
   ]
  },
  {
   "cell_type": "code",
   "execution_count": null,
   "metadata": {},
   "outputs": [],
   "source": []
  }
 ],
 "metadata": {
  "kernelspec": {
   "display_name": "Python 3",
   "language": "python",
   "name": "python3"
  },
  "language_info": {
   "codemirror_mode": {
    "name": "ipython",
    "version": 3
   },
   "file_extension": ".py",
   "mimetype": "text/x-python",
   "name": "python",
   "nbconvert_exporter": "python",
   "pygments_lexer": "ipython3",
   "version": "3.6.5"
  }
 },
 "nbformat": 4,
 "nbformat_minor": 2
}
